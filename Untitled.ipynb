{
 "cells": [
  {
   "cell_type": "code",
   "execution_count": 1,
   "id": "annual-scientist",
   "metadata": {},
   "outputs": [],
   "source": [
    "import Worker"
   ]
  },
  {
   "cell_type": "code",
   "execution_count": 3,
   "id": "brave-hearts",
   "metadata": {},
   "outputs": [
    {
     "name": "stdout",
     "output_type": "stream",
     "text": [
      "Jahr 0:\n",
      "----------------------\n",
      "Ihr derzeitiges Gehalt liegt bei 4200€ !\n",
      "Jahresgrundgehalt = 50400\n",
      "Ihr derzeitiger Bonus liegt bei 5040€ !\n",
      "Jahresgehalt = 55440\n",
      "----------------------\n",
      "\n",
      "\n",
      "Jahr 1:\n",
      "----------------------\n",
      "Herzlichen Glückwunsch! Sie verdienen ab sofort 4515€!\n",
      "Jahresgrundgehalt = 54180\n",
      "Aufgrund Ihrer herausragenden Leistungen erhalten Sie einen Bonus in Höhe von 5418€!\n",
      "Jahresgehalt = 59598\n",
      "----------------------\n",
      "\n",
      "\n",
      "Jahr 2:\n",
      "----------------------\n",
      "Herzlichen Glückwunsch! Sie wurden zum Senior Consultant befördert!\n",
      "Herzlichen Glückwunsch! Sie verdienen ab sofort 5102€!\n",
      "Jahresgrundgehalt = 61224\n",
      "Aufgrund Ihrer herausragenden Leistungen erhalten Sie einen Bonus in Höhe von 6122€!\n",
      "Jahresgehalt = 67346\n",
      "----------------------\n",
      "\n",
      "\n",
      "Jahr 3:\n",
      "----------------------\n",
      "Herzlichen Glückwunsch! Sie verdienen ab sofort 5485€!\n",
      "Jahresgrundgehalt = 65820\n",
      "Aufgrund Ihrer herausragenden Leistungen erhalten Sie einen Bonus in Höhe von 6582€!\n",
      "Jahresgehalt = 72402\n",
      "----------------------\n",
      "\n",
      "\n",
      "Jahr 4:\n",
      "----------------------\n",
      "Herzlichen Glückwunsch! Sie wurden zum Manager befördert!\n",
      "Herzlichen Glückwunsch! Sie verdienen ab sofort 6198€!\n",
      "Jahresgrundgehalt = 74376\n",
      "Aufgrund Ihrer herausragenden Leistungen erhalten Sie einen Bonus in Höhe von 7438€!\n",
      "Jahresgehalt = 81814\n",
      "----------------------\n",
      "\n",
      "\n",
      "Jahr 5:\n",
      "----------------------\n",
      "Herzlichen Glückwunsch! Sie verdienen ab sofort 6663€!\n",
      "Jahresgrundgehalt = 79956\n",
      "Aufgrund Ihrer herausragenden Leistungen erhalten Sie einen Bonus in Höhe von 7996€!\n",
      "Jahresgehalt = 87952\n",
      "----------------------\n",
      "\n",
      "\n",
      "Jahr 6:\n",
      "----------------------\n",
      "Herzlichen Glückwunsch! Sie wurden zum Senior Manager befördert!\n",
      "Herzlichen Glückwunsch! Sie verdienen ab sofort 7529€!\n",
      "Jahresgrundgehalt = 90348\n",
      "Aufgrund Ihrer herausragenden Leistungen erhalten Sie einen Bonus in Höhe von 9035€!\n",
      "Jahresgehalt = 99383\n",
      "----------------------\n",
      "\n",
      "\n",
      "Jahr 7:\n",
      "----------------------\n",
      "Herzlichen Glückwunsch! Sie verdienen ab sofort 8094€!\n",
      "Jahresgrundgehalt = 97128\n",
      "Aufgrund Ihrer herausragenden Leistungen erhalten Sie einen Bonus in Höhe von 9713€!\n",
      "Jahresgehalt = 106841\n",
      "----------------------\n",
      "\n",
      "\n",
      "Jahr 8:\n",
      "----------------------\n",
      "Herzlichen Glückwunsch! Sie wurden zum Director befördert!\n",
      "Herzlichen Glückwunsch! Sie verdienen ab sofort 9146€!\n",
      "Jahresgrundgehalt = 109752\n",
      "Aufgrund Ihrer herausragenden Leistungen erhalten Sie einen Bonus in Höhe von 10975€!\n",
      "Jahresgehalt = 120727\n",
      "----------------------\n",
      "\n",
      "\n",
      "Jahr 9:\n",
      "----------------------\n",
      "Herzlichen Glückwunsch! Sie verdienen ab sofort 9832€!\n",
      "Jahresgrundgehalt = 117984\n",
      "Aufgrund Ihrer herausragenden Leistungen erhalten Sie einen Bonus in Höhe von 11798€!\n",
      "Jahresgehalt = 129782\n",
      "----------------------\n",
      "\n",
      "\n"
     ]
    }
   ],
   "source": [
    "Deniz = Worker.Worker(\"Deniz\", \"Consultant\", 4200, 0, 1)\n",
    "print(f\"Jahr 0:\")\n",
    "print(\"----------------------\")\n",
    "print(f\"Ihr derzeitiges Gehalt liegt bei {Deniz.salary}€ !\")\n",
    "print(f\"Jahresgrundgehalt = {Deniz.salary * 12}\")\n",
    "print(f\"Ihr derzeitiger Bonus liegt bei {int(Deniz.salary*12*0.1)}€ !\")\n",
    "print(f\"Jahresgehalt = {Deniz.salary * 12 + int(Deniz.salary*12*0.1)}\")\n",
    "print(\"----------------------\")\n",
    "print()\n",
    "print()\n",
    "\n",
    "for i in range(1,10):\n",
    "    print(f\"Jahr {i}:\")\n",
    "    print(\"----------------------\")\n",
    "    if i % 2 == 0:\n",
    "        Deniz.promote()\n",
    "        Deniz.increase_salary(0.13)\n",
    "    else:\n",
    "        Deniz.increase_salary(0.075)\n",
    "    print(f\"Jahresgrundgehalt = {Deniz.salary * 12}\")\n",
    "    Deniz.bonus_year(0.10)\n",
    "    print(f\"Jahresgehalt = {Deniz.salary * 12 + Deniz.bonus}\")\n",
    "    print(\"----------------------\")\n",
    "    print()\n",
    "    print()"
   ]
  },
  {
   "cell_type": "code",
   "execution_count": 15,
   "id": "developing-hepatitis",
   "metadata": {},
   "outputs": [],
   "source": [
    "_,x = list(levels_dict.items())[0]"
   ]
  },
  {
   "cell_type": "code",
   "execution_count": 14,
   "id": "continuing-editor",
   "metadata": {},
   "outputs": [
    {
     "data": {
      "text/plain": [
       "(1, 'Consultant')"
      ]
     },
     "execution_count": 14,
     "metadata": {},
     "output_type": "execute_result"
    }
   ],
   "source": []
  },
  {
   "cell_type": "code",
   "execution_count": 17,
   "id": "prescription-puzzle",
   "metadata": {},
   "outputs": [
    {
     "data": {
      "text/plain": [
       "'Consultant'"
      ]
     },
     "execution_count": 17,
     "metadata": {},
     "output_type": "execute_result"
    }
   ],
   "source": [
    "x"
   ]
  },
  {
   "cell_type": "code",
   "execution_count": 52,
   "id": "bizarre-semester",
   "metadata": {},
   "outputs": [],
   "source": [
    "text = \"ich:bin:cool:oder:nicht\"\n",
    "a, b, _ = text.partition(':')"
   ]
  },
  {
   "cell_type": "code",
   "execution_count": 53,
   "id": "smaller-mechanics",
   "metadata": {},
   "outputs": [
    {
     "data": {
      "text/plain": [
       "'ich'"
      ]
     },
     "execution_count": 53,
     "metadata": {},
     "output_type": "execute_result"
    }
   ],
   "source": [
    "a"
   ]
  },
  {
   "cell_type": "code",
   "execution_count": 54,
   "id": "infectious-modem",
   "metadata": {},
   "outputs": [
    {
     "data": {
      "text/plain": [
       "':'"
      ]
     },
     "execution_count": 54,
     "metadata": {},
     "output_type": "execute_result"
    }
   ],
   "source": [
    "b"
   ]
  },
  {
   "cell_type": "code",
   "execution_count": 56,
   "id": "changed-balance",
   "metadata": {},
   "outputs": [
    {
     "data": {
      "text/plain": [
       "'bin:cool:oder:nicht'"
      ]
     },
     "execution_count": 56,
     "metadata": {},
     "output_type": "execute_result"
    }
   ],
   "source": [
    "_"
   ]
  },
  {
   "cell_type": "code",
   "execution_count": 51,
   "id": "close-reputation",
   "metadata": {},
   "outputs": [],
   "source": [
    "del a,b,c"
   ]
  },
  {
   "cell_type": "code",
   "execution_count": null,
   "id": "driving-tobago",
   "metadata": {},
   "outputs": [],
   "source": []
  }
 ],
 "metadata": {
  "kernelspec": {
   "display_name": "Python 3.7",
   "language": "python",
   "name": "python3"
  },
  "language_info": {
   "codemirror_mode": {
    "name": "ipython",
    "version": 3
   },
   "file_extension": ".py",
   "mimetype": "text/x-python",
   "name": "python",
   "nbconvert_exporter": "python",
   "pygments_lexer": "ipython3",
   "version": "3.7.9"
  }
 },
 "nbformat": 4,
 "nbformat_minor": 5
}
